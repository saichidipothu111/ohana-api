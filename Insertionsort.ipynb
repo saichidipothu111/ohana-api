{
  "nbformat": 4,
  "nbformat_minor": 0,
  "metadata": {
    "colab": {
      "name": "Insertionsort.ipynb",
      "provenance": [],
      "authorship_tag": "ABX9TyOfYPGOEKyPk+/0/8Oj0rP9",
      "include_colab_link": true
    },
    "kernelspec": {
      "name": "python3",
      "display_name": "Python 3"
    },
    "language_info": {
      "name": "python"
    }
  },
  "cells": [
    {
      "cell_type": "markdown",
      "metadata": {
        "id": "view-in-github",
        "colab_type": "text"
      },
      "source": [
        "<a href=\"https://colab.research.google.com/github/saichidipothu111/ohana-api/blob/master/Insertionsort.ipynb\" target=\"_parent\"><img src=\"https://colab.research.google.com/assets/colab-badge.svg\" alt=\"Open In Colab\"/></a>"
      ]
    },
    {
      "cell_type": "code",
      "execution_count": null,
      "metadata": {
        "colab": {
          "base_uri": "https://localhost:8080/"
        },
        "id": "s7grLtLd4eG_",
        "outputId": "4ce59fba-19a1-48ab-dc31-841d91929df0"
      },
      "outputs": [
        {
          "output_type": "stream",
          "name": "stdout",
          "text": [
            "sorted array:  \n",
            "7 50 75 85 90 95 100 100 110 "
          ]
        }
      ],
      "source": [
        "#Method defination\n",
        "def insertionsort(arr,n):\n",
        "  for i in range(1,n):\n",
        "    key=arr[i]\n",
        "    j=i-1\n",
        "    while j>=0 and arr[j]>key:\n",
        "      arr[j+1]=arr[j]\n",
        "      j=j-1\n",
        "    arr[j+1]=key\n",
        "\n",
        "arr=[75,90,100,95,85,50,100,110,7]\n",
        "n=len(arr)\n",
        "insertionsort(arr,n)\n",
        "print(\"sorted array:  \")\n",
        "for i in range(0,n):\n",
        "  print(arr[i],end=\" \")\n"
      ]
    }
  ]
}