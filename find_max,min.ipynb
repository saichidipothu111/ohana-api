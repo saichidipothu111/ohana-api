{
  "nbformat": 4,
  "nbformat_minor": 0,
  "metadata": {
    "colab": {
      "name": "find_max,min.ipynb",
      "provenance": [],
      "authorship_tag": "ABX9TyNGPC82l9ZUMpp5ACUYhwFc",
      "include_colab_link": true
    },
    "kernelspec": {
      "name": "python3",
      "display_name": "Python 3"
    },
    "language_info": {
      "name": "python"
    }
  },
  "cells": [
    {
      "cell_type": "markdown",
      "metadata": {
        "id": "view-in-github",
        "colab_type": "text"
      },
      "source": [
        "<a href=\"https://colab.research.google.com/github/saichidipothu111/ohana-api/blob/master/find_max%2Cmin.ipynb\" target=\"_parent\"><img src=\"https://colab.research.google.com/assets/colab-badge.svg\" alt=\"Open In Colab\"/></a>"
      ]
    },
    {
      "cell_type": "code",
      "execution_count": 17,
      "metadata": {
        "colab": {
          "base_uri": "https://localhost:8080/"
        },
        "id": "yonyBCObJd-5",
        "outputId": "94f84a38-1a21-450e-9254-b534ae9b6011"
      },
      "outputs": [
        {
          "output_type": "stream",
          "name": "stdout",
          "text": [
            "Min element in array: 4\n",
            "Man element in array: 190\n"
          ]
        }
      ],
      "source": [
        "def DACmaxmin(arr,i,j):\n",
        "  max_arr=arr[i]\n",
        "  min_arr=arr[j]\n",
        "\n",
        "  if i==j:     #small problem only 1 element\n",
        "    return(max_arr,min_arr)\n",
        "  elif i==j-1:\n",
        "    if  arr[i]>arr[j]:\n",
        "      max_arr=arr[i]\n",
        "      min_arr=arr[j]\n",
        "    else:\n",
        "      max_arr=arr[j]\n",
        "      min_arr=arr[i]\n",
        "    return(max_arr,min_arr)\n",
        "\n",
        "  else:\n",
        "    mid=i+(j-i)//2\n",
        "    max1,min1=DACmaxmin(arr,i,mid)\n",
        "    max2,min2=DACmaxmin(arr,mid+1,j)\n",
        "  return(max(max1,max2),min(min1,min2))\n",
        "\n",
        "arr=[50,90,170,25,15,7,190,4,59]\n",
        "i=0\n",
        "j=len(arr)-1\n",
        "max_arr,min_arr=DACmaxmin(arr,i,j)\n",
        "print(\"Min element in array:\",min_arr)\n",
        "print(\"Man element in array:\",max_arr)\n",
        "\n"
      ]
    },
    {
      "cell_type": "code",
      "source": [
        "def DAC_power(a,n):\n",
        "  if n==1:\n",
        "    return a\n",
        "  else:\n",
        "    mid=n//2\n",
        "    b=DAC_power(a,mid)\n",
        "    c=b*b\n",
        "    if n%2==0:\n",
        "      return c\n",
        "    else:\n",
        "      return c*a\n",
        "\n",
        "a=2\n",
        "n=65\n",
        "Result=DAC_power(a,n)\n",
        "print(\"power of an element:\",Result)"
      ],
      "metadata": {
        "colab": {
          "base_uri": "https://localhost:8080/"
        },
        "id": "kJWOR1kmyKt0",
        "outputId": "577f68fd-01d9-47ed-b6f6-08bc9794342c"
      },
      "execution_count": 18,
      "outputs": [
        {
          "output_type": "stream",
          "name": "stdout",
          "text": [
            "power of an element: 36893488147419103232\n"
          ]
        }
      ]
    },
    {
      "cell_type": "code",
      "source": [
        ""
      ],
      "metadata": {
        "id": "NDC1Wl6wFcZs"
      },
      "execution_count": 18,
      "outputs": []
    }
  ]
}