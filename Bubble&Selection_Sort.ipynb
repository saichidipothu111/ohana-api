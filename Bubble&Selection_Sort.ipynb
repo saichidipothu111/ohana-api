{
  "nbformat": 4,
  "nbformat_minor": 0,
  "metadata": {
    "colab": {
      "name": "Bubble&Selection_Sort.ipynb",
      "provenance": [],
      "authorship_tag": "ABX9TyPl1NMqzUTruOVXpMd39a4Q",
      "include_colab_link": true
    },
    "kernelspec": {
      "name": "python3",
      "display_name": "Python 3"
    },
    "language_info": {
      "name": "python"
    }
  },
  "cells": [
    {
      "cell_type": "markdown",
      "metadata": {
        "id": "view-in-github",
        "colab_type": "text"
      },
      "source": [
        "<a href=\"https://colab.research.google.com/github/saichidipothu111/ohana-api/blob/master/Bubble%26Selection_Sort.ipynb\" target=\"_parent\"><img src=\"https://colab.research.google.com/assets/colab-badge.svg\" alt=\"Open In Colab\"/></a>"
      ]
    },
    {
      "cell_type": "code",
      "execution_count": 9,
      "metadata": {
        "colab": {
          "base_uri": "https://localhost:8080/"
        },
        "id": "LGycRBgedB-d",
        "outputId": "341e3b1c-5bff-464f-c572-2427d49180b2"
      },
      "outputs": [
        {
          "output_type": "stream",
          "name": "stdout",
          "text": [
            "5 15 20 30 50 70 90 "
          ]
        }
      ],
      "source": [
        "#Method Operation(Bubble sort)\n",
        "def bubblesort(arr,n):\n",
        "   for i in range(n):\n",
        "     for j in range(0,n-i-1):\n",
        "       #checking for adjacent elements\n",
        "       if arr[j]>arr[j+1]:\n",
        "         #swap operation\n",
        "         arr[j],arr[j+1]=arr[j+1],arr[j]\n",
        "\n",
        "\n",
        "#Driver code\n",
        "arr=[70,20,50,30,90,5,15]\n",
        "n=len(arr)\n",
        "bubblesort(arr,n)\n",
        "#print(\"sorted_arr: \")\n",
        "for i in range(0,n):\n",
        "  print( arr[i],end=\" \")\n"
      ]
    },
    {
      "cell_type": "markdown",
      "source": [
        ""
      ],
      "metadata": {
        "id": "MPgAt8PUnC7D"
      }
    },
    {
      "cell_type": "code",
      "source": [
        "#Method Operation(Selection sort)\n",
        "def selectionsort(arr,n):\n",
        "  for i in range(n):\n",
        "    min_idx=i\n",
        "    for j in range(i+1,n):\n",
        "      if arr[min_idx]>arr[j]:\n",
        "        min_idx=j\n",
        "        \n",
        "    arr[i],arr[min_idx]=arr[min_idx],arr[i]\n",
        "\n",
        "\n",
        "#Driver code\n",
        "arr=[50,25,38,44,99,16,11,21]\n",
        "n=len(arr)\n",
        "bubblesort(arr,n)\n",
        "#print(\"sorted_arr: \")\n",
        "for i in range(0,n):\n",
        "  print( arr[i],end=\" \")"
      ],
      "metadata": {
        "colab": {
          "base_uri": "https://localhost:8080/"
        },
        "id": "3hTcigy0nEEK",
        "outputId": "2e0f2a17-9a7b-4c5a-8449-38df2dc8f860"
      },
      "execution_count": 10,
      "outputs": [
        {
          "output_type": "stream",
          "name": "stdout",
          "text": [
            "11 16 21 25 38 44 50 99 "
          ]
        }
      ]
    }
  ]
}